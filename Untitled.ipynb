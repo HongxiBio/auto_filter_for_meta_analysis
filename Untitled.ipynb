{
 "cells": [
  {
   "cell_type": "code",
   "execution_count": 1,
   "id": "dc2a1691",
   "metadata": {},
   "outputs": [
    {
     "name": "stderr",
     "output_type": "stream",
     "text": [
      "[WARNING][2024-11-13 11:51:46.045] redis_rate_limiter.py:21 [t:18928]: No redis installed, RedisRateLimiter unavailable. Ignore this warning if you don't need to use qianfan SDK in distribution environment\n"
     ]
    }
   ],
   "source": [
    "import os\n",
    "import qianfan  # Make sure you have configured the qianfan SDK access\n",
    "\n",
    "os.environ[\"QIANFAN_ACCESS_KEY\"] = \"QIANFAN_ACCESS_KEY\"\n",
    "os.environ[\"QIANFAN_SECRET_KEY\"] = \"QIANFAN_SECRET_KEY\""
   ]
  },
  {
   "cell_type": "code",
   "execution_count": 12,
   "id": "aefa4189",
   "metadata": {},
   "outputs": [
    {
     "name": "stdout",
     "output_type": "stream",
     "text": [
      "{'id': 'as-ndg3qi1gxx', 'object': 'chat.completion', 'created': 1731479480, 'sentence_id': 0, 'is_end': False, 'is_truncated': False, 'result': 'Streamlit', 'need_clear_history': False, 'finish_reason': 'normal', 'usage': {'prompt_tokens': 22, 'completion_tokens': 0, 'total_tokens': 22}}\n",
      "{'id': 'as-ndg3qi1gxx', 'object': 'chat.completion', 'created': 1731479481, 'sentence_id': 1, 'is_end': False, 'is_truncated': False, 'result': ' 是一个用于快速创建数据应用的 Python 库，它允许你构建交互式界面来展示你的数据和模型。', 'need_clear_history': False, 'finish_reason': 'normal', 'usage': {'prompt_tokens': 22, 'completion_tokens': 0, 'total_tokens': 22}}\n",
      "{'id': 'as-ndg3qi1gxx', 'object': 'chat.completion', 'created': 1731479482, 'sentence_id': 2, 'is_end': False, 'is_truncated': False, 'result': '然而，Streamlit 本身并不直接运行 Python 文件（.py）。它是通过在它的应用中嵌入 Python 代码来工作的。', 'need_clear_history': False, 'finish_reason': 'normal', 'usage': {'prompt_tokens': 22, 'completion_tokens': 0, 'total_tokens': 22}}\n",
      "{'id': 'as-ndg3qi1gxx', 'object': 'chat.completion', 'created': 1731479483, 'sentence_id': 3, 'is_end': False, 'is_truncated': False, 'result': '这些代码会被实时执行并且用户交互的结果会实时反馈。', 'need_clear_history': False, 'finish_reason': 'normal', 'usage': {'prompt_tokens': 22, 'completion_tokens': 0, 'total_tokens': 22}}\n",
      "{'id': 'as-ndg3qi1gxx', 'object': 'chat.completion', 'created': 1731479484, 'sentence_id': 4, 'is_end': False, 'is_truncated': False, 'result': '\\n\\n如果你想使用 Streamlit 来运行你的 Python 代码，你需要遵循以下步骤：\\n\\n1. 安装 Streamlit：你可以通过 pip 安装 Streamlit。', 'need_clear_history': False, 'finish_reason': 'normal', 'usage': {'prompt_tokens': 22, 'completion_tokens': 0, 'total_tokens': 22}}\n",
      "{'id': 'as-ndg3qi1gxx', 'object': 'chat.completion', 'created': 1731479485, 'sentence_id': 5, 'is_end': False, 'is_truncated': False, 'result': '在你的命令行中输入以下命令： `pip install streamlit`。', 'need_clear_history': False, 'finish_reason': 'normal', 'usage': {'prompt_tokens': 22, 'completion_tokens': 0, 'total_tokens': 22}}\n",
      "{'id': 'as-ndg3qi1gxx', 'object': 'chat.completion', 'created': 1731479486, 'sentence_id': 6, 'is_end': False, 'is_truncated': False, 'result': '\\n2. 创建 Streamlit 应用：创建一个新的 Python 文件，并在文件中编写你的 Streamlit 应用代码。', 'need_clear_history': False, 'finish_reason': 'normal', 'usage': {'prompt_tokens': 22, 'completion_tokens': 127, 'total_tokens': 149}}\n",
      "{'id': 'as-ndg3qi1gxx', 'object': 'chat.completion', 'created': 1731479487, 'sentence_id': 7, 'is_end': False, 'is_truncated': False, 'result': 'Streamlit 代码通常是创建用户界面和数据可视化的代码。', 'need_clear_history': False, 'finish_reason': 'normal', 'usage': {'prompt_tokens': 22, 'completion_tokens': 127, 'total_tokens': 149}}\n",
      "{'id': 'as-ndg3qi1gxx', 'object': 'chat.completion', 'created': 1731479487, 'sentence_id': 8, 'is_end': False, 'is_truncated': False, 'result': '例如，你可能会使用 `st.write()` 函数来输出一些数据或者创建一个简单的图表。', 'need_clear_history': False, 'finish_reason': 'normal', 'usage': {'prompt_tokens': 22, 'completion_tokens': 157, 'total_tokens': 179}}\n",
      "{'id': 'as-ndg3qi1gxx', 'object': 'chat.completion', 'created': 1731479488, 'sentence_id': 9, 'is_end': False, 'is_truncated': False, 'result': '\\n3. 运行 Streamlit 应用：在你的命令行中，进入到包含你的 Streamlit 应用的文件夹，然后输入 `streamlit run your_app_', 'need_clear_history': False, 'finish_reason': 'normal', 'usage': {'prompt_tokens': 22, 'completion_tokens': 157, 'total_tokens': 179}}\n",
      "{'id': 'as-ndg3qi1gxx', 'object': 'chat.completion', 'created': 1731479489, 'sentence_id': 10, 'is_end': False, 'is_truncated': False, 'result': 'file.py` 来运行你的应用。', 'need_clear_history': False, 'finish_reason': 'normal', 'usage': {'prompt_tokens': 22, 'completion_tokens': 157, 'total_tokens': 179}}\n",
      "{'id': 'as-ndg3qi1gxx', 'object': 'chat.completion', 'created': 1731479489, 'sentence_id': 11, 'is_end': False, 'is_truncated': False, 'result': '其中 `your_app_file.py` 是包含你的 Streamlit 代码的 Python 文件。', 'need_clear_history': False, 'finish_reason': 'normal', 'usage': {'prompt_tokens': 22, 'completion_tokens': 157, 'total_tokens': 179}}\n",
      "{'id': 'as-ndg3qi1gxx', 'object': 'chat.completion', 'created': 1731479490, 'sentence_id': 12, 'is_end': False, 'is_truncated': False, 'result': '\\n\\n请注意，Streamlit 应用需要在一个可以访问 web 服务器的环境中运行，因为它们是作为 web 应用部署的。', 'need_clear_history': False, 'finish_reason': 'normal', 'usage': {'prompt_tokens': 22, 'completion_tokens': 157, 'total_tokens': 179}}\n",
      "{'id': 'as-ndg3qi1gxx', 'object': 'chat.completion', 'created': 1731479491, 'sentence_id': 13, 'is_end': False, 'is_truncated': False, 'result': '如果你在本地计算机上运行它们，你需要确保你的浏览器能够访问该服务器。', 'need_clear_history': False, 'finish_reason': 'normal', 'usage': {'prompt_tokens': 22, 'completion_tokens': 157, 'total_tokens': 179}}\n",
      "{'id': 'as-ndg3qi1gxx', 'object': 'chat.completion', 'created': 1731479491, 'sentence_id': 14, 'is_end': False, 'is_truncated': False, 'result': '如果你在服务器上部署应用，你可能需要使用像 Heroku 这样的平台来托管你的应用。', 'need_clear_history': False, 'finish_reason': 'normal', 'usage': {'prompt_tokens': 22, 'completion_tokens': 157, 'total_tokens': 179}}\n",
      "{'id': 'as-ndg3qi1gxx', 'object': 'chat.completion', 'created': 1731479491, 'sentence_id': 15, 'is_end': True, 'is_truncated': False, 'result': '', 'need_clear_history': False, 'finish_reason': 'normal', 'usage': {'prompt_tokens': 22, 'completion_tokens': 274, 'total_tokens': 296}}\n",
      "Streamlit 是一个用于快速创建数据应用的 Python 库，它允许你构建交互式界面来展示你的数据和模型。然而，Streamlit 本身并不直接运行 Python 文件（.py）。它是通过在它的应用中嵌入 Python 代码来工作的。这些代码会被实时执行并且用户交互的结果会实时反馈。\n",
      "\n",
      "如果你想使用 Streamlit 来运行你的 Python 代码，你需要遵循以下步骤：\n",
      "\n",
      "1. 安装 Streamlit：你可以通过 pip 安装 Streamlit。在你的命令行中输入以下命令： `pip install streamlit`。\n",
      "2. 创建 Streamlit 应用：创建一个新的 Python 文件，并在文件中编写你的 Streamlit 应用代码。Streamlit 代码通常是创建用户界面和数据可视化的代码。例如，你可能会使用 `st.write()` 函数来输出一些数据或者创建一个简单的图表。\n",
      "3. 运行 Streamlit 应用：在你的命令行中，进入到包含你的 Streamlit 应用的文件夹，然后输入 `streamlit run your_app_file.py` 来运行你的应用。其中 `your_app_file.py` 是包含你的 Streamlit 代码的 Python 文件。\n",
      "\n",
      "请注意，Streamlit 应用需要在一个可以访问 web 服务器的环境中运行，因为它们是作为 web 应用部署的。如果你在本地计算机上运行它们，你需要确保你的浏览器能够访问该服务器。如果你在服务器上部署应用，你可能需要使用像 Heroku 这样的平台来托管你的应用。\n"
     ]
    }
   ],
   "source": [
    "resp = chat_comp.do(model=\"ERNIE-Speed-128K\",\n",
    "                    stream=True,\n",
    "                    system= \"你是一个专业的生命科学和生物信息学的科研助手，能够提供用户准确且简洁的信息\", \n",
    "                    messages=[{\n",
    "    \"role\": \"user\",\n",
    "    \"content\": \"streamlit如何运行py文件\"\n",
    "}])\n",
    "\n",
    "sentence=\"\"\n",
    "for r in resp:\n",
    "    print(r[\"body\"])\n",
    "    sentence=sentence + (r[\"body\"][\"result\"])\n",
    "print(sentence)"
   ]
  },
  {
   "cell_type": "code",
   "execution_count": 5,
   "id": "96e0204c",
   "metadata": {},
   "outputs": [],
   "source": [
    "for r in resp:\n",
    "    print(r[\"body\"])"
   ]
  },
  {
   "cell_type": "code",
   "execution_count": null,
   "id": "89704215",
   "metadata": {},
   "outputs": [],
   "source": []
  }
 ],
 "metadata": {
  "kernelspec": {
   "display_name": "Python [conda env:LLM_app]",
   "language": "python",
   "name": "llm_app"
  },
  "language_info": {
   "codemirror_mode": {
    "name": "ipython",
    "version": 3
   },
   "file_extension": ".py",
   "mimetype": "text/x-python",
   "name": "python",
   "nbconvert_exporter": "python",
   "pygments_lexer": "ipython3",
   "version": "3.12.7"
  }
 },
 "nbformat": 4,
 "nbformat_minor": 5
}
